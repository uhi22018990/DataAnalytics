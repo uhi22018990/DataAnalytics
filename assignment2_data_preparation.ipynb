{
  "nbformat": 4,
  "nbformat_minor": 0,
  "metadata": {
    "colab": {
      "provenance": []
    },
    "kernelspec": {
      "name": "ir",
      "display_name": "R"
    },
    "language_info": {
      "name": "R"
    }
  },
  "cells": [
    {
      "cell_type": "markdown",
      "source": [],
      "metadata": {
        "id": "ibvd2ZJWObfv"
      }
    },
    {
      "cell_type": "code",
      "source": [
        "library(dplyr)\n",
        "library(ggplot2)\n",
        "library(lattice)"
      ],
      "metadata": {
        "id": "pgG__72D5cPc"
      },
      "execution_count": 32,
      "outputs": []
    },
    {
      "cell_type": "markdown",
      "source": [
        "Import \"collisions_weather_data.csv\" file"
      ],
      "metadata": {
        "id": "mZd91zwXPlNG"
      }
    },
    {
      "cell_type": "code",
      "execution_count": 33,
      "metadata": {
        "id": "vldVm2VmNWwx"
      },
      "outputs": [],
      "source": [
        "collision_data <- read.csv(\"https://raw.githubusercontent.com/uhi22018990/DataAnalytics/main/collisions_weather_data.csv\", stringsAsFactors = TRUE)"
      ]
    },
    {
      "cell_type": "markdown",
      "source": [
        "Just as before, in the main document, let's have a quick look at our data:"
      ],
      "metadata": {
        "id": "SUjnUbuKOooo"
      }
    },
    {
      "cell_type": "code",
      "source": [
        "head(collision_data)"
      ],
      "metadata": {
        "colab": {
          "base_uri": "https://localhost:8080/",
          "height": 306
        },
        "id": "0qwgzpiVOpkA",
        "outputId": "2e45f5c7-dda5-41d0-815f-8bd00a17dea1"
      },
      "execution_count": 34,
      "outputs": [
        {
          "output_type": "display_data",
          "data": {
            "text/html": [
              "<table class=\"dataframe\">\n",
              "<caption>A data.frame: 6 × 18</caption>\n",
              "<thead>\n",
              "\t<tr><th></th><th scope=col>dim_date_year</th><th scope=col>dim_date_month</th><th scope=col>dim_date_day_number</th><th scope=col>collision_date</th><th scope=col>num_collisions</th><th scope=col>weather_date</th><th scope=col>temperature</th><th scope=col>dew_point</th><th scope=col>sea_level_pressure</th><th scope=col>visibility</th><th scope=col>wind_speed</th><th scope=col>max_sustained_wind_speed</th><th scope=col>max_wind_gust</th><th scope=col>max_temperature</th><th scope=col>min_temperature</th><th scope=col>total_precipitation</th><th scope=col>snow_depth</th><th scope=col>fog_occurred</th></tr>\n",
              "\t<tr><th></th><th scope=col>&lt;int&gt;</th><th scope=col>&lt;int&gt;</th><th scope=col>&lt;int&gt;</th><th scope=col>&lt;fct&gt;</th><th scope=col>&lt;int&gt;</th><th scope=col>&lt;fct&gt;</th><th scope=col>&lt;dbl&gt;</th><th scope=col>&lt;dbl&gt;</th><th scope=col>&lt;dbl&gt;</th><th scope=col>&lt;dbl&gt;</th><th scope=col>&lt;dbl&gt;</th><th scope=col>&lt;dbl&gt;</th><th scope=col>&lt;dbl&gt;</th><th scope=col>&lt;dbl&gt;</th><th scope=col>&lt;dbl&gt;</th><th scope=col>&lt;dbl&gt;</th><th scope=col>&lt;dbl&gt;</th><th scope=col>&lt;int&gt;</th></tr>\n",
              "</thead>\n",
              "<tbody>\n",
              "\t<tr><th scope=row>1</th><td>2012</td><td>7</td><td>7</td><td>2012-07-01</td><td>538</td><td>2012-07-01</td><td>83.6</td><td>63.0</td><td>1008.9</td><td> 9.7</td><td>4.1</td><td> 9.9</td><td> 18.1</td><td>93.0</td><td>66.0</td><td> 0.00</td><td>999.9</td><td>0</td></tr>\n",
              "\t<tr><th scope=row>2</th><td>2012</td><td>7</td><td>1</td><td>2012-07-02</td><td>564</td><td>2012-07-02</td><td>80.3</td><td>54.1</td><td>1011.6</td><td>10.0</td><td>3.8</td><td>15.0</td><td>999.9</td><td>88.0</td><td>66.9</td><td> 0.00</td><td>999.9</td><td>0</td></tr>\n",
              "\t<tr><th scope=row>3</th><td>2012</td><td>7</td><td>2</td><td>2012-07-03</td><td>664</td><td>2012-07-03</td><td>79.8</td><td>56.7</td><td>1012.8</td><td>10.0</td><td>2.9</td><td>12.0</td><td>999.9</td><td>88.0</td><td>63.0</td><td> 0.00</td><td>999.9</td><td>0</td></tr>\n",
              "\t<tr><th scope=row>4</th><td>2012</td><td>7</td><td>3</td><td>2012-07-04</td><td>432</td><td>2012-07-04</td><td>81.8</td><td>65.6</td><td>1009.1</td><td> 9.2</td><td>3.6</td><td>11.1</td><td>999.9</td><td>91.0</td><td>68.0</td><td> 0.06</td><td>999.9</td><td>0</td></tr>\n",
              "\t<tr><th scope=row>5</th><td>2012</td><td>7</td><td>4</td><td>2012-07-05</td><td>591</td><td>2012-07-05</td><td>86.7</td><td>64.3</td><td>1007.4</td><td> 9.4</td><td>3.8</td><td>15.0</td><td>999.9</td><td>93.9</td><td>70.0</td><td>99.99</td><td>999.9</td><td>0</td></tr>\n",
              "\t<tr><th scope=row>6</th><td>2012</td><td>7</td><td>5</td><td>2012-07-06</td><td>638</td><td>2012-07-06</td><td>81.9</td><td>62.3</td><td>1011.7</td><td>10.0</td><td>3.1</td><td> 9.9</td><td>999.9</td><td>91.0</td><td>66.9</td><td> 0.00</td><td>999.9</td><td>0</td></tr>\n",
              "</tbody>\n",
              "</table>\n"
            ],
            "text/markdown": "\nA data.frame: 6 × 18\n\n| <!--/--> | dim_date_year &lt;int&gt; | dim_date_month &lt;int&gt; | dim_date_day_number &lt;int&gt; | collision_date &lt;fct&gt; | num_collisions &lt;int&gt; | weather_date &lt;fct&gt; | temperature &lt;dbl&gt; | dew_point &lt;dbl&gt; | sea_level_pressure &lt;dbl&gt; | visibility &lt;dbl&gt; | wind_speed &lt;dbl&gt; | max_sustained_wind_speed &lt;dbl&gt; | max_wind_gust &lt;dbl&gt; | max_temperature &lt;dbl&gt; | min_temperature &lt;dbl&gt; | total_precipitation &lt;dbl&gt; | snow_depth &lt;dbl&gt; | fog_occurred &lt;int&gt; |\n|---|---|---|---|---|---|---|---|---|---|---|---|---|---|---|---|---|---|---|\n| 1 | 2012 | 7 | 7 | 2012-07-01 | 538 | 2012-07-01 | 83.6 | 63.0 | 1008.9 |  9.7 | 4.1 |  9.9 |  18.1 | 93.0 | 66.0 |  0.00 | 999.9 | 0 |\n| 2 | 2012 | 7 | 1 | 2012-07-02 | 564 | 2012-07-02 | 80.3 | 54.1 | 1011.6 | 10.0 | 3.8 | 15.0 | 999.9 | 88.0 | 66.9 |  0.00 | 999.9 | 0 |\n| 3 | 2012 | 7 | 2 | 2012-07-03 | 664 | 2012-07-03 | 79.8 | 56.7 | 1012.8 | 10.0 | 2.9 | 12.0 | 999.9 | 88.0 | 63.0 |  0.00 | 999.9 | 0 |\n| 4 | 2012 | 7 | 3 | 2012-07-04 | 432 | 2012-07-04 | 81.8 | 65.6 | 1009.1 |  9.2 | 3.6 | 11.1 | 999.9 | 91.0 | 68.0 |  0.06 | 999.9 | 0 |\n| 5 | 2012 | 7 | 4 | 2012-07-05 | 591 | 2012-07-05 | 86.7 | 64.3 | 1007.4 |  9.4 | 3.8 | 15.0 | 999.9 | 93.9 | 70.0 | 99.99 | 999.9 | 0 |\n| 6 | 2012 | 7 | 5 | 2012-07-06 | 638 | 2012-07-06 | 81.9 | 62.3 | 1011.7 | 10.0 | 3.1 |  9.9 | 999.9 | 91.0 | 66.9 |  0.00 | 999.9 | 0 |\n\n",
            "text/latex": "A data.frame: 6 × 18\n\\begin{tabular}{r|llllllllllllllllll}\n  & dim\\_date\\_year & dim\\_date\\_month & dim\\_date\\_day\\_number & collision\\_date & num\\_collisions & weather\\_date & temperature & dew\\_point & sea\\_level\\_pressure & visibility & wind\\_speed & max\\_sustained\\_wind\\_speed & max\\_wind\\_gust & max\\_temperature & min\\_temperature & total\\_precipitation & snow\\_depth & fog\\_occurred\\\\\n  & <int> & <int> & <int> & <fct> & <int> & <fct> & <dbl> & <dbl> & <dbl> & <dbl> & <dbl> & <dbl> & <dbl> & <dbl> & <dbl> & <dbl> & <dbl> & <int>\\\\\n\\hline\n\t1 & 2012 & 7 & 7 & 2012-07-01 & 538 & 2012-07-01 & 83.6 & 63.0 & 1008.9 &  9.7 & 4.1 &  9.9 &  18.1 & 93.0 & 66.0 &  0.00 & 999.9 & 0\\\\\n\t2 & 2012 & 7 & 1 & 2012-07-02 & 564 & 2012-07-02 & 80.3 & 54.1 & 1011.6 & 10.0 & 3.8 & 15.0 & 999.9 & 88.0 & 66.9 &  0.00 & 999.9 & 0\\\\\n\t3 & 2012 & 7 & 2 & 2012-07-03 & 664 & 2012-07-03 & 79.8 & 56.7 & 1012.8 & 10.0 & 2.9 & 12.0 & 999.9 & 88.0 & 63.0 &  0.00 & 999.9 & 0\\\\\n\t4 & 2012 & 7 & 3 & 2012-07-04 & 432 & 2012-07-04 & 81.8 & 65.6 & 1009.1 &  9.2 & 3.6 & 11.1 & 999.9 & 91.0 & 68.0 &  0.06 & 999.9 & 0\\\\\n\t5 & 2012 & 7 & 4 & 2012-07-05 & 591 & 2012-07-05 & 86.7 & 64.3 & 1007.4 &  9.4 & 3.8 & 15.0 & 999.9 & 93.9 & 70.0 & 99.99 & 999.9 & 0\\\\\n\t6 & 2012 & 7 & 5 & 2012-07-06 & 638 & 2012-07-06 & 81.9 & 62.3 & 1011.7 & 10.0 & 3.1 &  9.9 & 999.9 & 91.0 & 66.9 &  0.00 & 999.9 & 0\\\\\n\\end{tabular}\n",
            "text/plain": [
              "  dim_date_year dim_date_month dim_date_day_number collision_date\n",
              "1 2012          7              7                   2012-07-01    \n",
              "2 2012          7              1                   2012-07-02    \n",
              "3 2012          7              2                   2012-07-03    \n",
              "4 2012          7              3                   2012-07-04    \n",
              "5 2012          7              4                   2012-07-05    \n",
              "6 2012          7              5                   2012-07-06    \n",
              "  num_collisions weather_date temperature dew_point sea_level_pressure\n",
              "1 538            2012-07-01   83.6        63.0      1008.9            \n",
              "2 564            2012-07-02   80.3        54.1      1011.6            \n",
              "3 664            2012-07-03   79.8        56.7      1012.8            \n",
              "4 432            2012-07-04   81.8        65.6      1009.1            \n",
              "5 591            2012-07-05   86.7        64.3      1007.4            \n",
              "6 638            2012-07-06   81.9        62.3      1011.7            \n",
              "  visibility wind_speed max_sustained_wind_speed max_wind_gust max_temperature\n",
              "1  9.7       4.1         9.9                      18.1         93.0           \n",
              "2 10.0       3.8        15.0                     999.9         88.0           \n",
              "3 10.0       2.9        12.0                     999.9         88.0           \n",
              "4  9.2       3.6        11.1                     999.9         91.0           \n",
              "5  9.4       3.8        15.0                     999.9         93.9           \n",
              "6 10.0       3.1         9.9                     999.9         91.0           \n",
              "  min_temperature total_precipitation snow_depth fog_occurred\n",
              "1 66.0             0.00               999.9      0           \n",
              "2 66.9             0.00               999.9      0           \n",
              "3 63.0             0.00               999.9      0           \n",
              "4 68.0             0.06               999.9      0           \n",
              "5 70.0            99.99               999.9      0           \n",
              "6 66.9             0.00               999.9      0           "
            ]
          },
          "metadata": {}
        }
      ]
    },
    {
      "cell_type": "code",
      "source": [
        "tail(collision_data)"
      ],
      "metadata": {
        "colab": {
          "base_uri": "https://localhost:8080/",
          "height": 306
        },
        "id": "d3cyBdDKWeDZ",
        "outputId": "2a10bfdb-061f-464e-fa0a-e0d60113c8c3"
      },
      "execution_count": 35,
      "outputs": [
        {
          "output_type": "display_data",
          "data": {
            "text/html": [
              "<table class=\"dataframe\">\n",
              "<caption>A data.frame: 6 × 18</caption>\n",
              "<thead>\n",
              "\t<tr><th></th><th scope=col>dim_date_year</th><th scope=col>dim_date_month</th><th scope=col>dim_date_day_number</th><th scope=col>collision_date</th><th scope=col>num_collisions</th><th scope=col>weather_date</th><th scope=col>temperature</th><th scope=col>dew_point</th><th scope=col>sea_level_pressure</th><th scope=col>visibility</th><th scope=col>wind_speed</th><th scope=col>max_sustained_wind_speed</th><th scope=col>max_wind_gust</th><th scope=col>max_temperature</th><th scope=col>min_temperature</th><th scope=col>total_precipitation</th><th scope=col>snow_depth</th><th scope=col>fog_occurred</th></tr>\n",
              "\t<tr><th></th><th scope=col>&lt;int&gt;</th><th scope=col>&lt;int&gt;</th><th scope=col>&lt;int&gt;</th><th scope=col>&lt;fct&gt;</th><th scope=col>&lt;int&gt;</th><th scope=col>&lt;fct&gt;</th><th scope=col>&lt;dbl&gt;</th><th scope=col>&lt;dbl&gt;</th><th scope=col>&lt;dbl&gt;</th><th scope=col>&lt;dbl&gt;</th><th scope=col>&lt;dbl&gt;</th><th scope=col>&lt;dbl&gt;</th><th scope=col>&lt;dbl&gt;</th><th scope=col>&lt;dbl&gt;</th><th scope=col>&lt;dbl&gt;</th><th scope=col>&lt;dbl&gt;</th><th scope=col>&lt;dbl&gt;</th><th scope=col>&lt;int&gt;</th></tr>\n",
              "</thead>\n",
              "<tbody>\n",
              "\t<tr><th scope=row>3764</th><td>2022</td><td>10</td><td>4</td><td>2022-10-20</td><td>275</td><td>2022-10-20</td><td>50.5</td><td>32.2</td><td>1014.3</td><td>10.0</td><td>5.0</td><td> 8.9</td><td> 15.9</td><td>57.0</td><td>42.1</td><td>0.00</td><td>999.9</td><td>0</td></tr>\n",
              "\t<tr><th scope=row>3765</th><td>2022</td><td>10</td><td>5</td><td>2022-10-21</td><td>285</td><td>2022-10-21</td><td>53.8</td><td>34.3</td><td>1018.9</td><td>10.0</td><td>2.3</td><td> 5.1</td><td>999.9</td><td>62.1</td><td>44.1</td><td>0.00</td><td>999.9</td><td>0</td></tr>\n",
              "\t<tr><th scope=row>3766</th><td>2022</td><td>10</td><td>6</td><td>2022-10-22</td><td>278</td><td>2022-10-22</td><td>57.1</td><td>40.0</td><td>1023.7</td><td>10.0</td><td>2.4</td><td> 6.0</td><td>999.9</td><td>66.0</td><td>46.0</td><td>0.00</td><td>999.9</td><td>0</td></tr>\n",
              "\t<tr><th scope=row>3767</th><td>2022</td><td>10</td><td>7</td><td>2022-10-23</td><td>202</td><td>2022-10-23</td><td>57.5</td><td>46.7</td><td>1025.1</td><td>10.0</td><td>4.8</td><td>11.1</td><td> 18.1</td><td>66.0</td><td>48.9</td><td>0.00</td><td>999.9</td><td>1</td></tr>\n",
              "\t<tr><th scope=row>3768</th><td>2022</td><td>10</td><td>1</td><td>2022-10-24</td><td>216</td><td>2022-10-24</td><td>57.2</td><td>52.8</td><td>1021.8</td><td> 6.0</td><td>6.9</td><td> 9.9</td><td> 20.0</td><td>61.0</td><td>54.0</td><td>0.16</td><td>999.9</td><td>1</td></tr>\n",
              "\t<tr><th scope=row>3769</th><td>2022</td><td>10</td><td>2</td><td>2022-10-25</td><td>194</td><td>2022-10-25</td><td>64.0</td><td>62.2</td><td>1018.5</td><td> 2.9</td><td>3.3</td><td> 8.9</td><td>999.9</td><td>70.0</td><td>55.0</td><td>0.38</td><td>999.9</td><td>1</td></tr>\n",
              "</tbody>\n",
              "</table>\n"
            ],
            "text/markdown": "\nA data.frame: 6 × 18\n\n| <!--/--> | dim_date_year &lt;int&gt; | dim_date_month &lt;int&gt; | dim_date_day_number &lt;int&gt; | collision_date &lt;fct&gt; | num_collisions &lt;int&gt; | weather_date &lt;fct&gt; | temperature &lt;dbl&gt; | dew_point &lt;dbl&gt; | sea_level_pressure &lt;dbl&gt; | visibility &lt;dbl&gt; | wind_speed &lt;dbl&gt; | max_sustained_wind_speed &lt;dbl&gt; | max_wind_gust &lt;dbl&gt; | max_temperature &lt;dbl&gt; | min_temperature &lt;dbl&gt; | total_precipitation &lt;dbl&gt; | snow_depth &lt;dbl&gt; | fog_occurred &lt;int&gt; |\n|---|---|---|---|---|---|---|---|---|---|---|---|---|---|---|---|---|---|---|\n| 3764 | 2022 | 10 | 4 | 2022-10-20 | 275 | 2022-10-20 | 50.5 | 32.2 | 1014.3 | 10.0 | 5.0 |  8.9 |  15.9 | 57.0 | 42.1 | 0.00 | 999.9 | 0 |\n| 3765 | 2022 | 10 | 5 | 2022-10-21 | 285 | 2022-10-21 | 53.8 | 34.3 | 1018.9 | 10.0 | 2.3 |  5.1 | 999.9 | 62.1 | 44.1 | 0.00 | 999.9 | 0 |\n| 3766 | 2022 | 10 | 6 | 2022-10-22 | 278 | 2022-10-22 | 57.1 | 40.0 | 1023.7 | 10.0 | 2.4 |  6.0 | 999.9 | 66.0 | 46.0 | 0.00 | 999.9 | 0 |\n| 3767 | 2022 | 10 | 7 | 2022-10-23 | 202 | 2022-10-23 | 57.5 | 46.7 | 1025.1 | 10.0 | 4.8 | 11.1 |  18.1 | 66.0 | 48.9 | 0.00 | 999.9 | 1 |\n| 3768 | 2022 | 10 | 1 | 2022-10-24 | 216 | 2022-10-24 | 57.2 | 52.8 | 1021.8 |  6.0 | 6.9 |  9.9 |  20.0 | 61.0 | 54.0 | 0.16 | 999.9 | 1 |\n| 3769 | 2022 | 10 | 2 | 2022-10-25 | 194 | 2022-10-25 | 64.0 | 62.2 | 1018.5 |  2.9 | 3.3 |  8.9 | 999.9 | 70.0 | 55.0 | 0.38 | 999.9 | 1 |\n\n",
            "text/latex": "A data.frame: 6 × 18\n\\begin{tabular}{r|llllllllllllllllll}\n  & dim\\_date\\_year & dim\\_date\\_month & dim\\_date\\_day\\_number & collision\\_date & num\\_collisions & weather\\_date & temperature & dew\\_point & sea\\_level\\_pressure & visibility & wind\\_speed & max\\_sustained\\_wind\\_speed & max\\_wind\\_gust & max\\_temperature & min\\_temperature & total\\_precipitation & snow\\_depth & fog\\_occurred\\\\\n  & <int> & <int> & <int> & <fct> & <int> & <fct> & <dbl> & <dbl> & <dbl> & <dbl> & <dbl> & <dbl> & <dbl> & <dbl> & <dbl> & <dbl> & <dbl> & <int>\\\\\n\\hline\n\t3764 & 2022 & 10 & 4 & 2022-10-20 & 275 & 2022-10-20 & 50.5 & 32.2 & 1014.3 & 10.0 & 5.0 &  8.9 &  15.9 & 57.0 & 42.1 & 0.00 & 999.9 & 0\\\\\n\t3765 & 2022 & 10 & 5 & 2022-10-21 & 285 & 2022-10-21 & 53.8 & 34.3 & 1018.9 & 10.0 & 2.3 &  5.1 & 999.9 & 62.1 & 44.1 & 0.00 & 999.9 & 0\\\\\n\t3766 & 2022 & 10 & 6 & 2022-10-22 & 278 & 2022-10-22 & 57.1 & 40.0 & 1023.7 & 10.0 & 2.4 &  6.0 & 999.9 & 66.0 & 46.0 & 0.00 & 999.9 & 0\\\\\n\t3767 & 2022 & 10 & 7 & 2022-10-23 & 202 & 2022-10-23 & 57.5 & 46.7 & 1025.1 & 10.0 & 4.8 & 11.1 &  18.1 & 66.0 & 48.9 & 0.00 & 999.9 & 1\\\\\n\t3768 & 2022 & 10 & 1 & 2022-10-24 & 216 & 2022-10-24 & 57.2 & 52.8 & 1021.8 &  6.0 & 6.9 &  9.9 &  20.0 & 61.0 & 54.0 & 0.16 & 999.9 & 1\\\\\n\t3769 & 2022 & 10 & 2 & 2022-10-25 & 194 & 2022-10-25 & 64.0 & 62.2 & 1018.5 &  2.9 & 3.3 &  8.9 & 999.9 & 70.0 & 55.0 & 0.38 & 999.9 & 1\\\\\n\\end{tabular}\n",
            "text/plain": [
              "     dim_date_year dim_date_month dim_date_day_number collision_date\n",
              "3764 2022          10             4                   2022-10-20    \n",
              "3765 2022          10             5                   2022-10-21    \n",
              "3766 2022          10             6                   2022-10-22    \n",
              "3767 2022          10             7                   2022-10-23    \n",
              "3768 2022          10             1                   2022-10-24    \n",
              "3769 2022          10             2                   2022-10-25    \n",
              "     num_collisions weather_date temperature dew_point sea_level_pressure\n",
              "3764 275            2022-10-20   50.5        32.2      1014.3            \n",
              "3765 285            2022-10-21   53.8        34.3      1018.9            \n",
              "3766 278            2022-10-22   57.1        40.0      1023.7            \n",
              "3767 202            2022-10-23   57.5        46.7      1025.1            \n",
              "3768 216            2022-10-24   57.2        52.8      1021.8            \n",
              "3769 194            2022-10-25   64.0        62.2      1018.5            \n",
              "     visibility wind_speed max_sustained_wind_speed max_wind_gust\n",
              "3764 10.0       5.0         8.9                      15.9        \n",
              "3765 10.0       2.3         5.1                     999.9        \n",
              "3766 10.0       2.4         6.0                     999.9        \n",
              "3767 10.0       4.8        11.1                      18.1        \n",
              "3768  6.0       6.9         9.9                      20.0        \n",
              "3769  2.9       3.3         8.9                     999.9        \n",
              "     max_temperature min_temperature total_precipitation snow_depth\n",
              "3764 57.0            42.1            0.00                999.9     \n",
              "3765 62.1            44.1            0.00                999.9     \n",
              "3766 66.0            46.0            0.00                999.9     \n",
              "3767 66.0            48.9            0.00                999.9     \n",
              "3768 61.0            54.0            0.16                999.9     \n",
              "3769 70.0            55.0            0.38                999.9     \n",
              "     fog_occurred\n",
              "3764 0           \n",
              "3765 0           \n",
              "3766 0           \n",
              "3767 1           \n",
              "3768 1           \n",
              "3769 1           "
            ]
          },
          "metadata": {}
        }
      ]
    },
    {
      "cell_type": "markdown",
      "source": [
        "The data seems to be the same we have on big query\n"
      ],
      "metadata": {
        "id": "KmFTUi7EPESZ"
      }
    },
    {
      "cell_type": "code",
      "source": [
        "summary(collision_data)"
      ],
      "metadata": {
        "colab": {
          "base_uri": "https://localhost:8080/",
          "height": 712
        },
        "id": "RZxSyhPcPK4u",
        "outputId": "4a7cde3e-b755-4d46-d21b-2f5b8f607400"
      },
      "execution_count": 36,
      "outputs": [
        {
          "output_type": "display_data",
          "data": {
            "text/plain": [
              " dim_date_year  dim_date_month   dim_date_day_number    collision_date\n",
              " Min.   :2012   Min.   : 1.000   Min.   :1.000       2012-07-01:   1  \n",
              " 1st Qu.:2015   1st Qu.: 4.000   1st Qu.:2.000       2012-07-02:   1  \n",
              " Median :2017   Median : 7.000   Median :4.000       2012-07-03:   1  \n",
              " Mean   :2017   Mean   : 6.582   Mean   :3.999       2012-07-04:   1  \n",
              " 3rd Qu.:2020   3rd Qu.:10.000   3rd Qu.:6.000       2012-07-05:   1  \n",
              " Max.   :2022   Max.   :12.000   Max.   :7.000       2012-07-06:   1  \n",
              "                                                     (Other)   :3763  \n",
              " num_collisions       weather_date   temperature     dew_point     \n",
              " Min.   :  94.0   2012-07-01:   1   Min.   : 6.9   Min.   :-16.10  \n",
              " 1st Qu.: 365.0   2012-07-02:   1   1st Qu.:42.6   1st Qu.: 27.30  \n",
              " Median : 549.0   2012-07-03:   1   Median :57.6   Median : 43.80  \n",
              " Mean   : 514.7   2012-07-04:   1   Mean   :56.4   Mean   : 42.04  \n",
              " 3rd Qu.: 635.0   2012-07-05:   1   3rd Qu.:72.0   3rd Qu.: 58.30  \n",
              " Max.   :1161.0   2012-07-06:   1   Max.   :89.1   Max.   : 74.80  \n",
              "                  (Other)   :3763                                  \n",
              " sea_level_pressure   visibility       wind_speed     max_sustained_wind_speed\n",
              " Min.   :  989      Min.   :  0.70   Min.   :  0.00   Min.   :  2.90          \n",
              " 1st Qu.: 1012      1st Qu.:  8.50   1st Qu.:  3.00   1st Qu.:  7.00          \n",
              " Median : 1017      Median :  9.90   Median :  4.30   Median :  8.90          \n",
              " Mean   : 1074      Mean   : 17.95   Mean   : 64.44   Mean   : 69.27          \n",
              " 3rd Qu.: 1022      3rd Qu.: 10.00   3rd Qu.:  6.00   3rd Qu.: 12.00          \n",
              " Max.   :10000      Max.   :999.90   Max.   :999.90   Max.   :999.90          \n",
              "                                                                              \n",
              " max_wind_gust   max_temperature min_temperature total_precipitation\n",
              " Min.   : 14.0   Min.   : 15.1   Min.   :-0.90   Min.   : 0.0000    \n",
              " 1st Qu.: 18.1   1st Qu.: 51.1   1st Qu.:35.10   1st Qu.: 0.0000    \n",
              " Median : 25.1   Median : 68.0   Median :48.90   Median : 0.0000    \n",
              " Mean   :406.1   Mean   : 65.9   Mean   :48.36   Mean   : 0.1704    \n",
              " 3rd Qu.:999.9   3rd Qu.: 82.0   3rd Qu.:63.00   3rd Qu.: 0.0900    \n",
              " Max.   :999.9   Max.   :100.0   Max.   :82.90   Max.   :99.9900    \n",
              "                                                                    \n",
              "   snow_depth     fog_occurred   \n",
              " Min.   :  1.2   Min.   :0.0000  \n",
              " 1st Qu.:999.9   1st Qu.:0.0000  \n",
              " Median :999.9   Median :0.0000  \n",
              " Mean   :938.7   Mean   :0.1778  \n",
              " 3rd Qu.:999.9   3rd Qu.:0.0000  \n",
              " Max.   :999.9   Max.   :1.0000  \n",
              "                                 "
            ]
          },
          "metadata": {}
        }
      ]
    },
    {
      "cell_type": "markdown",
      "source": [
        "ah we have outliers here: 999.90 is indication of missing value"
      ],
      "metadata": {
        "id": "L60wik8CPm59"
      }
    },
    {
      "cell_type": "markdown",
      "source": [
        "## normalization and export for DNN\n",
        "let's create a dataset without outlier or null value. Exclude max wind gust and snow"
      ],
      "metadata": {
        "id": "3FDP4hxgJAlz"
      }
    },
    {
      "cell_type": "code",
      "source": [
        "collision_data_clean <- collision_data[ which(collision_data$visibility < 999),]\n",
        "collision_data_clean <- collision_data_clean[ which(collision_data_clean$sea_level_pressure < 9999),]\n",
        "collision_data_clean <- collision_data_clean[ which(collision_data_clean$wind_speed < 999),]\n",
        "# collision_data_clean <- collision_data_clean[ which(collision_data_clean$max_wind_gust < 999),]\n",
        "collision_data_clean <- collision_data_clean[ which(collision_data_clean$total_precipitation < 99),]\n",
        "# collision_data_clean <- collision_data_clean[ which(collision_data_clean$snow_depth < 999),]\n",
        "dim(collision_data_clean)\n",
        "#head(collision_data_clean)\n",
        "#tail(collision_data_clean)\n",
        "#summary(collision_data_clean)\n",
        "head(collision_data_clean)\n",
        "ncol(collision_data_clean)\n"
      ],
      "metadata": {
        "id": "DympeujvDEDn",
        "colab": {
          "base_uri": "https://localhost:8080/",
          "height": 341
        },
        "outputId": "6eaab48c-a55d-4eff-c488-7c230b51d957"
      },
      "execution_count": 37,
      "outputs": [
        {
          "output_type": "display_data",
          "data": {
            "text/html": [
              "<style>\n",
              ".list-inline {list-style: none; margin:0; padding: 0}\n",
              ".list-inline>li {display: inline-block}\n",
              ".list-inline>li:not(:last-child)::after {content: \"\\00b7\"; padding: 0 .5ex}\n",
              "</style>\n",
              "<ol class=list-inline><li>3521</li><li>18</li></ol>\n"
            ],
            "text/markdown": "1. 3521\n2. 18\n\n\n",
            "text/latex": "\\begin{enumerate*}\n\\item 3521\n\\item 18\n\\end{enumerate*}\n",
            "text/plain": [
              "[1] 3521   18"
            ]
          },
          "metadata": {}
        },
        {
          "output_type": "display_data",
          "data": {
            "text/html": [
              "<table class=\"dataframe\">\n",
              "<caption>A data.frame: 6 × 18</caption>\n",
              "<thead>\n",
              "\t<tr><th></th><th scope=col>dim_date_year</th><th scope=col>dim_date_month</th><th scope=col>dim_date_day_number</th><th scope=col>collision_date</th><th scope=col>num_collisions</th><th scope=col>weather_date</th><th scope=col>temperature</th><th scope=col>dew_point</th><th scope=col>sea_level_pressure</th><th scope=col>visibility</th><th scope=col>wind_speed</th><th scope=col>max_sustained_wind_speed</th><th scope=col>max_wind_gust</th><th scope=col>max_temperature</th><th scope=col>min_temperature</th><th scope=col>total_precipitation</th><th scope=col>snow_depth</th><th scope=col>fog_occurred</th></tr>\n",
              "\t<tr><th></th><th scope=col>&lt;int&gt;</th><th scope=col>&lt;int&gt;</th><th scope=col>&lt;int&gt;</th><th scope=col>&lt;fct&gt;</th><th scope=col>&lt;int&gt;</th><th scope=col>&lt;fct&gt;</th><th scope=col>&lt;dbl&gt;</th><th scope=col>&lt;dbl&gt;</th><th scope=col>&lt;dbl&gt;</th><th scope=col>&lt;dbl&gt;</th><th scope=col>&lt;dbl&gt;</th><th scope=col>&lt;dbl&gt;</th><th scope=col>&lt;dbl&gt;</th><th scope=col>&lt;dbl&gt;</th><th scope=col>&lt;dbl&gt;</th><th scope=col>&lt;dbl&gt;</th><th scope=col>&lt;dbl&gt;</th><th scope=col>&lt;int&gt;</th></tr>\n",
              "</thead>\n",
              "<tbody>\n",
              "\t<tr><th scope=row>1</th><td>2012</td><td>7</td><td>7</td><td>2012-07-01</td><td>538</td><td>2012-07-01</td><td>83.6</td><td>63.0</td><td>1008.9</td><td> 9.7</td><td>4.1</td><td> 9.9</td><td> 18.1</td><td>93</td><td>66.0</td><td>0.00</td><td>999.9</td><td>0</td></tr>\n",
              "\t<tr><th scope=row>2</th><td>2012</td><td>7</td><td>1</td><td>2012-07-02</td><td>564</td><td>2012-07-02</td><td>80.3</td><td>54.1</td><td>1011.6</td><td>10.0</td><td>3.8</td><td>15.0</td><td>999.9</td><td>88</td><td>66.9</td><td>0.00</td><td>999.9</td><td>0</td></tr>\n",
              "\t<tr><th scope=row>3</th><td>2012</td><td>7</td><td>2</td><td>2012-07-03</td><td>664</td><td>2012-07-03</td><td>79.8</td><td>56.7</td><td>1012.8</td><td>10.0</td><td>2.9</td><td>12.0</td><td>999.9</td><td>88</td><td>63.0</td><td>0.00</td><td>999.9</td><td>0</td></tr>\n",
              "\t<tr><th scope=row>4</th><td>2012</td><td>7</td><td>3</td><td>2012-07-04</td><td>432</td><td>2012-07-04</td><td>81.8</td><td>65.6</td><td>1009.1</td><td> 9.2</td><td>3.6</td><td>11.1</td><td>999.9</td><td>91</td><td>68.0</td><td>0.06</td><td>999.9</td><td>0</td></tr>\n",
              "\t<tr><th scope=row>6</th><td>2012</td><td>7</td><td>5</td><td>2012-07-06</td><td>638</td><td>2012-07-06</td><td>81.9</td><td>62.3</td><td>1011.7</td><td>10.0</td><td>3.1</td><td> 9.9</td><td>999.9</td><td>91</td><td>66.9</td><td>0.00</td><td>999.9</td><td>0</td></tr>\n",
              "\t<tr><th scope=row>7</th><td>2012</td><td>7</td><td>6</td><td>2012-07-07</td><td>490</td><td>2012-07-07</td><td>84.9</td><td>65.9</td><td>1010.1</td><td> 9.5</td><td>3.1</td><td>14.0</td><td> 17.1</td><td>95</td><td>70.0</td><td>0.00</td><td>999.9</td><td>0</td></tr>\n",
              "</tbody>\n",
              "</table>\n"
            ],
            "text/markdown": "\nA data.frame: 6 × 18\n\n| <!--/--> | dim_date_year &lt;int&gt; | dim_date_month &lt;int&gt; | dim_date_day_number &lt;int&gt; | collision_date &lt;fct&gt; | num_collisions &lt;int&gt; | weather_date &lt;fct&gt; | temperature &lt;dbl&gt; | dew_point &lt;dbl&gt; | sea_level_pressure &lt;dbl&gt; | visibility &lt;dbl&gt; | wind_speed &lt;dbl&gt; | max_sustained_wind_speed &lt;dbl&gt; | max_wind_gust &lt;dbl&gt; | max_temperature &lt;dbl&gt; | min_temperature &lt;dbl&gt; | total_precipitation &lt;dbl&gt; | snow_depth &lt;dbl&gt; | fog_occurred &lt;int&gt; |\n|---|---|---|---|---|---|---|---|---|---|---|---|---|---|---|---|---|---|---|\n| 1 | 2012 | 7 | 7 | 2012-07-01 | 538 | 2012-07-01 | 83.6 | 63.0 | 1008.9 |  9.7 | 4.1 |  9.9 |  18.1 | 93 | 66.0 | 0.00 | 999.9 | 0 |\n| 2 | 2012 | 7 | 1 | 2012-07-02 | 564 | 2012-07-02 | 80.3 | 54.1 | 1011.6 | 10.0 | 3.8 | 15.0 | 999.9 | 88 | 66.9 | 0.00 | 999.9 | 0 |\n| 3 | 2012 | 7 | 2 | 2012-07-03 | 664 | 2012-07-03 | 79.8 | 56.7 | 1012.8 | 10.0 | 2.9 | 12.0 | 999.9 | 88 | 63.0 | 0.00 | 999.9 | 0 |\n| 4 | 2012 | 7 | 3 | 2012-07-04 | 432 | 2012-07-04 | 81.8 | 65.6 | 1009.1 |  9.2 | 3.6 | 11.1 | 999.9 | 91 | 68.0 | 0.06 | 999.9 | 0 |\n| 6 | 2012 | 7 | 5 | 2012-07-06 | 638 | 2012-07-06 | 81.9 | 62.3 | 1011.7 | 10.0 | 3.1 |  9.9 | 999.9 | 91 | 66.9 | 0.00 | 999.9 | 0 |\n| 7 | 2012 | 7 | 6 | 2012-07-07 | 490 | 2012-07-07 | 84.9 | 65.9 | 1010.1 |  9.5 | 3.1 | 14.0 |  17.1 | 95 | 70.0 | 0.00 | 999.9 | 0 |\n\n",
            "text/latex": "A data.frame: 6 × 18\n\\begin{tabular}{r|llllllllllllllllll}\n  & dim\\_date\\_year & dim\\_date\\_month & dim\\_date\\_day\\_number & collision\\_date & num\\_collisions & weather\\_date & temperature & dew\\_point & sea\\_level\\_pressure & visibility & wind\\_speed & max\\_sustained\\_wind\\_speed & max\\_wind\\_gust & max\\_temperature & min\\_temperature & total\\_precipitation & snow\\_depth & fog\\_occurred\\\\\n  & <int> & <int> & <int> & <fct> & <int> & <fct> & <dbl> & <dbl> & <dbl> & <dbl> & <dbl> & <dbl> & <dbl> & <dbl> & <dbl> & <dbl> & <dbl> & <int>\\\\\n\\hline\n\t1 & 2012 & 7 & 7 & 2012-07-01 & 538 & 2012-07-01 & 83.6 & 63.0 & 1008.9 &  9.7 & 4.1 &  9.9 &  18.1 & 93 & 66.0 & 0.00 & 999.9 & 0\\\\\n\t2 & 2012 & 7 & 1 & 2012-07-02 & 564 & 2012-07-02 & 80.3 & 54.1 & 1011.6 & 10.0 & 3.8 & 15.0 & 999.9 & 88 & 66.9 & 0.00 & 999.9 & 0\\\\\n\t3 & 2012 & 7 & 2 & 2012-07-03 & 664 & 2012-07-03 & 79.8 & 56.7 & 1012.8 & 10.0 & 2.9 & 12.0 & 999.9 & 88 & 63.0 & 0.00 & 999.9 & 0\\\\\n\t4 & 2012 & 7 & 3 & 2012-07-04 & 432 & 2012-07-04 & 81.8 & 65.6 & 1009.1 &  9.2 & 3.6 & 11.1 & 999.9 & 91 & 68.0 & 0.06 & 999.9 & 0\\\\\n\t6 & 2012 & 7 & 5 & 2012-07-06 & 638 & 2012-07-06 & 81.9 & 62.3 & 1011.7 & 10.0 & 3.1 &  9.9 & 999.9 & 91 & 66.9 & 0.00 & 999.9 & 0\\\\\n\t7 & 2012 & 7 & 6 & 2012-07-07 & 490 & 2012-07-07 & 84.9 & 65.9 & 1010.1 &  9.5 & 3.1 & 14.0 &  17.1 & 95 & 70.0 & 0.00 & 999.9 & 0\\\\\n\\end{tabular}\n",
            "text/plain": [
              "  dim_date_year dim_date_month dim_date_day_number collision_date\n",
              "1 2012          7              7                   2012-07-01    \n",
              "2 2012          7              1                   2012-07-02    \n",
              "3 2012          7              2                   2012-07-03    \n",
              "4 2012          7              3                   2012-07-04    \n",
              "6 2012          7              5                   2012-07-06    \n",
              "7 2012          7              6                   2012-07-07    \n",
              "  num_collisions weather_date temperature dew_point sea_level_pressure\n",
              "1 538            2012-07-01   83.6        63.0      1008.9            \n",
              "2 564            2012-07-02   80.3        54.1      1011.6            \n",
              "3 664            2012-07-03   79.8        56.7      1012.8            \n",
              "4 432            2012-07-04   81.8        65.6      1009.1            \n",
              "6 638            2012-07-06   81.9        62.3      1011.7            \n",
              "7 490            2012-07-07   84.9        65.9      1010.1            \n",
              "  visibility wind_speed max_sustained_wind_speed max_wind_gust max_temperature\n",
              "1  9.7       4.1         9.9                      18.1         93             \n",
              "2 10.0       3.8        15.0                     999.9         88             \n",
              "3 10.0       2.9        12.0                     999.9         88             \n",
              "4  9.2       3.6        11.1                     999.9         91             \n",
              "6 10.0       3.1         9.9                     999.9         91             \n",
              "7  9.5       3.1        14.0                      17.1         95             \n",
              "  min_temperature total_precipitation snow_depth fog_occurred\n",
              "1 66.0            0.00                999.9      0           \n",
              "2 66.9            0.00                999.9      0           \n",
              "3 63.0            0.00                999.9      0           \n",
              "4 68.0            0.06                999.9      0           \n",
              "6 66.9            0.00                999.9      0           \n",
              "7 70.0            0.00                999.9      0           "
            ]
          },
          "metadata": {}
        },
        {
          "output_type": "display_data",
          "data": {
            "text/html": [
              "18"
            ],
            "text/markdown": "18",
            "text/latex": "18",
            "text/plain": [
              "[1] 18"
            ]
          },
          "metadata": {}
        }
      ]
    },
    {
      "cell_type": "markdown",
      "source": [
        "Now remove the colum that are not interesting\n"
      ],
      "metadata": {
        "id": "jg1kip40L7Ne"
      }
    },
    {
      "cell_type": "code",
      "source": [
        "#collision_data_clean <- collision_data_clean[,-1:-2] # remove dim_date_year, dim_date_month\n",
        "collision_data_clean <- collision_data_clean[,-4] # remove collision_date\n",
        "collision_data_clean <- collision_data_clean[,-5] #remove weather_date\n",
        "collision_data_clean <- collision_data_clean[,-15:-16] #remove snow_depth,\tfog_occurred\n",
        "collision_data_clean <- collision_data_clean[,-11] # remove max_wind_gust\n",
        "## then move num_collisions as first column\n",
        "collision_data_clean <- collision_data_clean %>% relocate(num_collisions, .before = dim_date_year)\n",
        "head(collision_data_clean)\n",
        "summary(collision_data_clean)\n",
        "sd(collision_data_clean$num_collisions)\n"
      ],
      "metadata": {
        "id": "Xc2EJxxnDEGH",
        "colab": {
          "base_uri": "https://localhost:8080/",
          "height": 810
        },
        "outputId": "ff23bef8-a1f2-403a-a89e-23dd4357efba"
      },
      "execution_count": 38,
      "outputs": [
        {
          "output_type": "display_data",
          "data": {
            "text/html": [
              "<table class=\"dataframe\">\n",
              "<caption>A data.frame: 6 × 13</caption>\n",
              "<thead>\n",
              "\t<tr><th></th><th scope=col>num_collisions</th><th scope=col>dim_date_year</th><th scope=col>dim_date_month</th><th scope=col>dim_date_day_number</th><th scope=col>temperature</th><th scope=col>dew_point</th><th scope=col>sea_level_pressure</th><th scope=col>visibility</th><th scope=col>wind_speed</th><th scope=col>max_sustained_wind_speed</th><th scope=col>max_temperature</th><th scope=col>min_temperature</th><th scope=col>total_precipitation</th></tr>\n",
              "\t<tr><th></th><th scope=col>&lt;int&gt;</th><th scope=col>&lt;int&gt;</th><th scope=col>&lt;int&gt;</th><th scope=col>&lt;int&gt;</th><th scope=col>&lt;dbl&gt;</th><th scope=col>&lt;dbl&gt;</th><th scope=col>&lt;dbl&gt;</th><th scope=col>&lt;dbl&gt;</th><th scope=col>&lt;dbl&gt;</th><th scope=col>&lt;dbl&gt;</th><th scope=col>&lt;dbl&gt;</th><th scope=col>&lt;dbl&gt;</th><th scope=col>&lt;dbl&gt;</th></tr>\n",
              "</thead>\n",
              "<tbody>\n",
              "\t<tr><th scope=row>1</th><td>538</td><td>2012</td><td>7</td><td>7</td><td>83.6</td><td>63.0</td><td>1008.9</td><td> 9.7</td><td>4.1</td><td> 9.9</td><td>93</td><td>66.0</td><td>0.00</td></tr>\n",
              "\t<tr><th scope=row>2</th><td>564</td><td>2012</td><td>7</td><td>1</td><td>80.3</td><td>54.1</td><td>1011.6</td><td>10.0</td><td>3.8</td><td>15.0</td><td>88</td><td>66.9</td><td>0.00</td></tr>\n",
              "\t<tr><th scope=row>3</th><td>664</td><td>2012</td><td>7</td><td>2</td><td>79.8</td><td>56.7</td><td>1012.8</td><td>10.0</td><td>2.9</td><td>12.0</td><td>88</td><td>63.0</td><td>0.00</td></tr>\n",
              "\t<tr><th scope=row>4</th><td>432</td><td>2012</td><td>7</td><td>3</td><td>81.8</td><td>65.6</td><td>1009.1</td><td> 9.2</td><td>3.6</td><td>11.1</td><td>91</td><td>68.0</td><td>0.06</td></tr>\n",
              "\t<tr><th scope=row>6</th><td>638</td><td>2012</td><td>7</td><td>5</td><td>81.9</td><td>62.3</td><td>1011.7</td><td>10.0</td><td>3.1</td><td> 9.9</td><td>91</td><td>66.9</td><td>0.00</td></tr>\n",
              "\t<tr><th scope=row>7</th><td>490</td><td>2012</td><td>7</td><td>6</td><td>84.9</td><td>65.9</td><td>1010.1</td><td> 9.5</td><td>3.1</td><td>14.0</td><td>95</td><td>70.0</td><td>0.00</td></tr>\n",
              "</tbody>\n",
              "</table>\n"
            ],
            "text/markdown": "\nA data.frame: 6 × 13\n\n| <!--/--> | num_collisions &lt;int&gt; | dim_date_year &lt;int&gt; | dim_date_month &lt;int&gt; | dim_date_day_number &lt;int&gt; | temperature &lt;dbl&gt; | dew_point &lt;dbl&gt; | sea_level_pressure &lt;dbl&gt; | visibility &lt;dbl&gt; | wind_speed &lt;dbl&gt; | max_sustained_wind_speed &lt;dbl&gt; | max_temperature &lt;dbl&gt; | min_temperature &lt;dbl&gt; | total_precipitation &lt;dbl&gt; |\n|---|---|---|---|---|---|---|---|---|---|---|---|---|---|\n| 1 | 538 | 2012 | 7 | 7 | 83.6 | 63.0 | 1008.9 |  9.7 | 4.1 |  9.9 | 93 | 66.0 | 0.00 |\n| 2 | 564 | 2012 | 7 | 1 | 80.3 | 54.1 | 1011.6 | 10.0 | 3.8 | 15.0 | 88 | 66.9 | 0.00 |\n| 3 | 664 | 2012 | 7 | 2 | 79.8 | 56.7 | 1012.8 | 10.0 | 2.9 | 12.0 | 88 | 63.0 | 0.00 |\n| 4 | 432 | 2012 | 7 | 3 | 81.8 | 65.6 | 1009.1 |  9.2 | 3.6 | 11.1 | 91 | 68.0 | 0.06 |\n| 6 | 638 | 2012 | 7 | 5 | 81.9 | 62.3 | 1011.7 | 10.0 | 3.1 |  9.9 | 91 | 66.9 | 0.00 |\n| 7 | 490 | 2012 | 7 | 6 | 84.9 | 65.9 | 1010.1 |  9.5 | 3.1 | 14.0 | 95 | 70.0 | 0.00 |\n\n",
            "text/latex": "A data.frame: 6 × 13\n\\begin{tabular}{r|lllllllllllll}\n  & num\\_collisions & dim\\_date\\_year & dim\\_date\\_month & dim\\_date\\_day\\_number & temperature & dew\\_point & sea\\_level\\_pressure & visibility & wind\\_speed & max\\_sustained\\_wind\\_speed & max\\_temperature & min\\_temperature & total\\_precipitation\\\\\n  & <int> & <int> & <int> & <int> & <dbl> & <dbl> & <dbl> & <dbl> & <dbl> & <dbl> & <dbl> & <dbl> & <dbl>\\\\\n\\hline\n\t1 & 538 & 2012 & 7 & 7 & 83.6 & 63.0 & 1008.9 &  9.7 & 4.1 &  9.9 & 93 & 66.0 & 0.00\\\\\n\t2 & 564 & 2012 & 7 & 1 & 80.3 & 54.1 & 1011.6 & 10.0 & 3.8 & 15.0 & 88 & 66.9 & 0.00\\\\\n\t3 & 664 & 2012 & 7 & 2 & 79.8 & 56.7 & 1012.8 & 10.0 & 2.9 & 12.0 & 88 & 63.0 & 0.00\\\\\n\t4 & 432 & 2012 & 7 & 3 & 81.8 & 65.6 & 1009.1 &  9.2 & 3.6 & 11.1 & 91 & 68.0 & 0.06\\\\\n\t6 & 638 & 2012 & 7 & 5 & 81.9 & 62.3 & 1011.7 & 10.0 & 3.1 &  9.9 & 91 & 66.9 & 0.00\\\\\n\t7 & 490 & 2012 & 7 & 6 & 84.9 & 65.9 & 1010.1 &  9.5 & 3.1 & 14.0 & 95 & 70.0 & 0.00\\\\\n\\end{tabular}\n",
            "text/plain": [
              "  num_collisions dim_date_year dim_date_month dim_date_day_number temperature\n",
              "1 538            2012          7              7                   83.6       \n",
              "2 564            2012          7              1                   80.3       \n",
              "3 664            2012          7              2                   79.8       \n",
              "4 432            2012          7              3                   81.8       \n",
              "6 638            2012          7              5                   81.9       \n",
              "7 490            2012          7              6                   84.9       \n",
              "  dew_point sea_level_pressure visibility wind_speed max_sustained_wind_speed\n",
              "1 63.0      1008.9              9.7       4.1         9.9                    \n",
              "2 54.1      1011.6             10.0       3.8        15.0                    \n",
              "3 56.7      1012.8             10.0       2.9        12.0                    \n",
              "4 65.6      1009.1              9.2       3.6        11.1                    \n",
              "6 62.3      1011.7             10.0       3.1         9.9                    \n",
              "7 65.9      1010.1              9.5       3.1        14.0                    \n",
              "  max_temperature min_temperature total_precipitation\n",
              "1 93              66.0            0.00               \n",
              "2 88              66.9            0.00               \n",
              "3 88              63.0            0.00               \n",
              "4 91              68.0            0.06               \n",
              "6 91              66.9            0.00               \n",
              "7 95              70.0            0.00               "
            ]
          },
          "metadata": {}
        },
        {
          "output_type": "display_data",
          "data": {
            "text/plain": [
              " num_collisions  dim_date_year  dim_date_month   dim_date_day_number\n",
              " Min.   : 94.0   Min.   :2012   Min.   : 1.000   Min.   :1          \n",
              " 1st Qu.:361.0   1st Qu.:2014   1st Qu.: 4.000   1st Qu.:2          \n",
              " Median :547.0   Median :2017   Median : 7.000   Median :4          \n",
              " Mean   :513.4   Mean   :2017   Mean   : 6.579   Mean   :4          \n",
              " 3rd Qu.:633.0   3rd Qu.:2020   3rd Qu.: 9.000   3rd Qu.:6          \n",
              " Max.   :999.0   Max.   :2022   Max.   :12.000   Max.   :7          \n",
              "  temperature      dew_point     sea_level_pressure   visibility    \n",
              " Min.   : 6.90   Min.   :-16.1   Min.   : 989       Min.   : 0.700  \n",
              " 1st Qu.:43.30   1st Qu.: 27.8   1st Qu.:1012       1st Qu.: 8.500  \n",
              " Median :58.20   Median : 44.8   Median :1017       Median : 9.800  \n",
              " Mean   :57.04   Mean   : 42.6   Mean   :1017       Mean   : 9.009  \n",
              " 3rd Qu.:72.50   3rd Qu.: 58.8   3rd Qu.:1022       3rd Qu.:10.000  \n",
              " Max.   :89.10   Max.   : 74.8   Max.   :1042       Max.   :10.000  \n",
              "   wind_speed    max_sustained_wind_speed max_temperature  min_temperature\n",
              " Min.   : 0.00   Min.   : 2.900           Min.   : 18.00   Min.   :-0.90  \n",
              " 1st Qu.: 2.90   1st Qu.: 7.000           1st Qu.: 52.00   1st Qu.:36.00  \n",
              " Median : 4.10   Median : 8.900           Median : 69.10   Median :50.00  \n",
              " Mean   : 4.49   Mean   : 9.634           Mean   : 66.62   Mean   :48.96  \n",
              " 3rd Qu.: 5.70   3rd Qu.:11.100           3rd Qu.: 82.00   3rd Qu.:64.00  \n",
              " Max.   :18.70   Max.   :42.000           Max.   :100.00   Max.   :82.90  \n",
              " total_precipitation\n",
              " Min.   :0.0000     \n",
              " 1st Qu.:0.0000     \n",
              " Median :0.0000     \n",
              " Mean   :0.1449     \n",
              " 3rd Qu.:0.0900     \n",
              " Max.   :7.1200     "
            ]
          },
          "metadata": {}
        },
        {
          "output_type": "display_data",
          "data": {
            "text/html": [
              "160.879646383154"
            ],
            "text/markdown": "160.879646383154",
            "text/latex": "160.879646383154",
            "text/plain": [
              "[1] 160.8796"
            ]
          },
          "metadata": {}
        }
      ]
    },
    {
      "cell_type": "code",
      "source": [
        "# wind_speed_numeric <- collision_data_clean[ , unlist(lapply(collision_data_clean, is.numeric))]\n",
        "#wind_speed_numeric <- collision_data_clean[ , unlist(lapply(collision_data_clean, is.numeric))]\n",
        "collision_data_clean[,1] <- scale(collision_data_clean[,1])\n",
        "head(collision_data_clean)\n",
        "summary(collision_data_clean)\n",
        "\n",
        "## by scaling I'll have a Mean 0 for num_collision!"
      ],
      "metadata": {
        "id": "c1KNPdu7DEBV",
        "colab": {
          "base_uri": "https://localhost:8080/",
          "height": 793
        },
        "outputId": "7e4c48f7-1efc-46e5-d840-d5b463cc895f"
      },
      "execution_count": 39,
      "outputs": [
        {
          "output_type": "display_data",
          "data": {
            "text/html": [
              "<table class=\"dataframe\">\n",
              "<caption>A data.frame: 6 × 13</caption>\n",
              "<thead>\n",
              "\t<tr><th></th><th scope=col>num_collisions</th><th scope=col>dim_date_year</th><th scope=col>dim_date_month</th><th scope=col>dim_date_day_number</th><th scope=col>temperature</th><th scope=col>dew_point</th><th scope=col>sea_level_pressure</th><th scope=col>visibility</th><th scope=col>wind_speed</th><th scope=col>max_sustained_wind_speed</th><th scope=col>max_temperature</th><th scope=col>min_temperature</th><th scope=col>total_precipitation</th></tr>\n",
              "\t<tr><th></th><th scope=col>&lt;dbl[,1]&gt;</th><th scope=col>&lt;int&gt;</th><th scope=col>&lt;int&gt;</th><th scope=col>&lt;int&gt;</th><th scope=col>&lt;dbl&gt;</th><th scope=col>&lt;dbl&gt;</th><th scope=col>&lt;dbl&gt;</th><th scope=col>&lt;dbl&gt;</th><th scope=col>&lt;dbl&gt;</th><th scope=col>&lt;dbl&gt;</th><th scope=col>&lt;dbl&gt;</th><th scope=col>&lt;dbl&gt;</th><th scope=col>&lt;dbl&gt;</th></tr>\n",
              "</thead>\n",
              "<tbody>\n",
              "\t<tr><th scope=row>1</th><td> 0.1529736</td><td>2012</td><td>7</td><td>7</td><td>83.6</td><td>63.0</td><td>1008.9</td><td> 9.7</td><td>4.1</td><td> 9.9</td><td>93</td><td>66.0</td><td>0.00</td></tr>\n",
              "\t<tr><th scope=row>2</th><td> 0.3145851</td><td>2012</td><td>7</td><td>1</td><td>80.3</td><td>54.1</td><td>1011.6</td><td>10.0</td><td>3.8</td><td>15.0</td><td>88</td><td>66.9</td><td>0.00</td></tr>\n",
              "\t<tr><th scope=row>3</th><td> 0.9361678</td><td>2012</td><td>7</td><td>2</td><td>79.8</td><td>56.7</td><td>1012.8</td><td>10.0</td><td>2.9</td><td>12.0</td><td>88</td><td>63.0</td><td>0.00</td></tr>\n",
              "\t<tr><th scope=row>4</th><td>-0.5059040</td><td>2012</td><td>7</td><td>3</td><td>81.8</td><td>65.6</td><td>1009.1</td><td> 9.2</td><td>3.6</td><td>11.1</td><td>91</td><td>68.0</td><td>0.06</td></tr>\n",
              "\t<tr><th scope=row>6</th><td> 0.7745563</td><td>2012</td><td>7</td><td>5</td><td>81.9</td><td>62.3</td><td>1011.7</td><td>10.0</td><td>3.1</td><td> 9.9</td><td>91</td><td>66.9</td><td>0.00</td></tr>\n",
              "\t<tr><th scope=row>7</th><td>-0.1453861</td><td>2012</td><td>7</td><td>6</td><td>84.9</td><td>65.9</td><td>1010.1</td><td> 9.5</td><td>3.1</td><td>14.0</td><td>95</td><td>70.0</td><td>0.00</td></tr>\n",
              "</tbody>\n",
              "</table>\n"
            ],
            "text/markdown": "\nA data.frame: 6 × 13\n\n| <!--/--> | num_collisions &lt;dbl[,1]&gt; | dim_date_year &lt;int&gt; | dim_date_month &lt;int&gt; | dim_date_day_number &lt;int&gt; | temperature &lt;dbl&gt; | dew_point &lt;dbl&gt; | sea_level_pressure &lt;dbl&gt; | visibility &lt;dbl&gt; | wind_speed &lt;dbl&gt; | max_sustained_wind_speed &lt;dbl&gt; | max_temperature &lt;dbl&gt; | min_temperature &lt;dbl&gt; | total_precipitation &lt;dbl&gt; |\n|---|---|---|---|---|---|---|---|---|---|---|---|---|---|\n| 1 |  0.1529736 | 2012 | 7 | 7 | 83.6 | 63.0 | 1008.9 |  9.7 | 4.1 |  9.9 | 93 | 66.0 | 0.00 |\n| 2 |  0.3145851 | 2012 | 7 | 1 | 80.3 | 54.1 | 1011.6 | 10.0 | 3.8 | 15.0 | 88 | 66.9 | 0.00 |\n| 3 |  0.9361678 | 2012 | 7 | 2 | 79.8 | 56.7 | 1012.8 | 10.0 | 2.9 | 12.0 | 88 | 63.0 | 0.00 |\n| 4 | -0.5059040 | 2012 | 7 | 3 | 81.8 | 65.6 | 1009.1 |  9.2 | 3.6 | 11.1 | 91 | 68.0 | 0.06 |\n| 6 |  0.7745563 | 2012 | 7 | 5 | 81.9 | 62.3 | 1011.7 | 10.0 | 3.1 |  9.9 | 91 | 66.9 | 0.00 |\n| 7 | -0.1453861 | 2012 | 7 | 6 | 84.9 | 65.9 | 1010.1 |  9.5 | 3.1 | 14.0 | 95 | 70.0 | 0.00 |\n\n",
            "text/latex": "A data.frame: 6 × 13\n\\begin{tabular}{r|lllllllllllll}\n  & num\\_collisions & dim\\_date\\_year & dim\\_date\\_month & dim\\_date\\_day\\_number & temperature & dew\\_point & sea\\_level\\_pressure & visibility & wind\\_speed & max\\_sustained\\_wind\\_speed & max\\_temperature & min\\_temperature & total\\_precipitation\\\\\n  & <dbl{[},1{]}> & <int> & <int> & <int> & <dbl> & <dbl> & <dbl> & <dbl> & <dbl> & <dbl> & <dbl> & <dbl> & <dbl>\\\\\n\\hline\n\t1 &  0.1529736 & 2012 & 7 & 7 & 83.6 & 63.0 & 1008.9 &  9.7 & 4.1 &  9.9 & 93 & 66.0 & 0.00\\\\\n\t2 &  0.3145851 & 2012 & 7 & 1 & 80.3 & 54.1 & 1011.6 & 10.0 & 3.8 & 15.0 & 88 & 66.9 & 0.00\\\\\n\t3 &  0.9361678 & 2012 & 7 & 2 & 79.8 & 56.7 & 1012.8 & 10.0 & 2.9 & 12.0 & 88 & 63.0 & 0.00\\\\\n\t4 & -0.5059040 & 2012 & 7 & 3 & 81.8 & 65.6 & 1009.1 &  9.2 & 3.6 & 11.1 & 91 & 68.0 & 0.06\\\\\n\t6 &  0.7745563 & 2012 & 7 & 5 & 81.9 & 62.3 & 1011.7 & 10.0 & 3.1 &  9.9 & 91 & 66.9 & 0.00\\\\\n\t7 & -0.1453861 & 2012 & 7 & 6 & 84.9 & 65.9 & 1010.1 &  9.5 & 3.1 & 14.0 & 95 & 70.0 & 0.00\\\\\n\\end{tabular}\n",
            "text/plain": [
              "  num_collisions dim_date_year dim_date_month dim_date_day_number temperature\n",
              "1  0.1529736     2012          7              7                   83.6       \n",
              "2  0.3145851     2012          7              1                   80.3       \n",
              "3  0.9361678     2012          7              2                   79.8       \n",
              "4 -0.5059040     2012          7              3                   81.8       \n",
              "6  0.7745563     2012          7              5                   81.9       \n",
              "7 -0.1453861     2012          7              6                   84.9       \n",
              "  dew_point sea_level_pressure visibility wind_speed max_sustained_wind_speed\n",
              "1 63.0      1008.9              9.7       4.1         9.9                    \n",
              "2 54.1      1011.6             10.0       3.8        15.0                    \n",
              "3 56.7      1012.8             10.0       2.9        12.0                    \n",
              "4 65.6      1009.1              9.2       3.6        11.1                    \n",
              "6 62.3      1011.7             10.0       3.1         9.9                    \n",
              "7 65.9      1010.1              9.5       3.1        14.0                    \n",
              "  max_temperature min_temperature total_precipitation\n",
              "1 93              66.0            0.00               \n",
              "2 88              66.9            0.00               \n",
              "3 88              63.0            0.00               \n",
              "4 91              68.0            0.06               \n",
              "6 91              66.9            0.00               \n",
              "7 95              70.0            0.00               "
            ]
          },
          "metadata": {}
        },
        {
          "output_type": "display_data",
          "data": {
            "text/plain": [
              "  num_collisions.V1   dim_date_year  dim_date_month   dim_date_day_number\n",
              " Min.   :-2.6068535   Min.   :2012   Min.   : 1.000   Min.   :1          \n",
              " 1st Qu.:-0.9472277   1st Qu.:2014   1st Qu.: 4.000   1st Qu.:2          \n",
              " Median : 0.2089160   Median :2017   Median : 7.000   Median :4          \n",
              " Mean   : 0.0000000   Mean   :2017   Mean   : 6.579   Mean   :4          \n",
              " 3rd Qu.: 0.7434771   3rd Qu.:2020   3rd Qu.: 9.000   3rd Qu.:6          \n",
              " Max.   : 3.0184697   Max.   :2022   Max.   :12.000   Max.   :7          \n",
              "  temperature      dew_point     sea_level_pressure   visibility    \n",
              " Min.   : 6.90   Min.   :-16.1   Min.   : 989       Min.   : 0.700  \n",
              " 1st Qu.:43.30   1st Qu.: 27.8   1st Qu.:1012       1st Qu.: 8.500  \n",
              " Median :58.20   Median : 44.8   Median :1017       Median : 9.800  \n",
              " Mean   :57.04   Mean   : 42.6   Mean   :1017       Mean   : 9.009  \n",
              " 3rd Qu.:72.50   3rd Qu.: 58.8   3rd Qu.:1022       3rd Qu.:10.000  \n",
              " Max.   :89.10   Max.   : 74.8   Max.   :1042       Max.   :10.000  \n",
              "   wind_speed    max_sustained_wind_speed max_temperature  min_temperature\n",
              " Min.   : 0.00   Min.   : 2.900           Min.   : 18.00   Min.   :-0.90  \n",
              " 1st Qu.: 2.90   1st Qu.: 7.000           1st Qu.: 52.00   1st Qu.:36.00  \n",
              " Median : 4.10   Median : 8.900           Median : 69.10   Median :50.00  \n",
              " Mean   : 4.49   Mean   : 9.634           Mean   : 66.62   Mean   :48.96  \n",
              " 3rd Qu.: 5.70   3rd Qu.:11.100           3rd Qu.: 82.00   3rd Qu.:64.00  \n",
              " Max.   :18.70   Max.   :42.000           Max.   :100.00   Max.   :82.90  \n",
              " total_precipitation\n",
              " Min.   :0.0000     \n",
              " 1st Qu.:0.0000     \n",
              " Median :0.0000     \n",
              " Mean   :0.1449     \n",
              " 3rd Qu.:0.0900     \n",
              " Max.   :7.1200     "
            ]
          },
          "metadata": {}
        }
      ]
    },
    {
      "cell_type": "code",
      "source": [
        "# then export\n",
        "\n",
        "write.csv(collision_data_clean, file=\"/content/collision_data_clean_dnn.csv\")"
      ],
      "metadata": {
        "id": "KkQAYi2DL6i7"
      },
      "execution_count": 40,
      "outputs": []
    }
  ]
}